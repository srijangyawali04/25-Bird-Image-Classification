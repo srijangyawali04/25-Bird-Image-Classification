{
 "cells": [
  {
   "cell_type": "code",
   "execution_count": 1,
   "id": "97832b54",
   "metadata": {
    "execution": {
     "iopub.execute_input": "2024-08-05T12:16:10.185254Z",
     "iopub.status.busy": "2024-08-05T12:16:10.184889Z",
     "iopub.status.idle": "2024-08-05T12:16:24.077121Z",
     "shell.execute_reply": "2024-08-05T12:16:24.076172Z"
    },
    "papermill": {
     "duration": 13.904361,
     "end_time": "2024-08-05T12:16:24.079560",
     "exception": false,
     "start_time": "2024-08-05T12:16:10.175199",
     "status": "completed"
    },
    "tags": []
   },
   "outputs": [
    {
     "name": "stdout",
     "output_type": "stream",
     "text": [
      "Collecting torch-summary\r\n",
      "  Downloading torch_summary-1.4.5-py3-none-any.whl.metadata (18 kB)\r\n",
      "Downloading torch_summary-1.4.5-py3-none-any.whl (16 kB)\r\n",
      "Installing collected packages: torch-summary\r\n",
      "Successfully installed torch-summary-1.4.5\r\n"
     ]
    }
   ],
   "source": [
    "# !pip install torch-summary"
   ]
  },
  {
   "cell_type": "markdown",
   "id": "a9c9007a",
   "metadata": {},
   "source": [
    "## IMPORT PACKAGES"
   ]
  },
  {
   "cell_type": "code",
   "execution_count": 2,
   "id": "cab652db",
   "metadata": {
    "_cell_guid": "b1076dfc-b9ad-4769-8c92-a6c4dae69d19",
    "_uuid": "8f2839f25d086af736a60e9eeb907d3b93b6e0e5",
    "execution": {
     "iopub.execute_input": "2024-08-05T12:16:24.097624Z",
     "iopub.status.busy": "2024-08-05T12:16:24.097308Z",
     "iopub.status.idle": "2024-08-05T12:16:29.227853Z",
     "shell.execute_reply": "2024-08-05T12:16:29.227052Z"
    },
    "papermill": {
     "duration": 5.142324,
     "end_time": "2024-08-05T12:16:29.230335",
     "exception": false,
     "start_time": "2024-08-05T12:16:24.088011",
     "status": "completed"
    },
    "tags": []
   },
   "outputs": [],
   "source": [
    "import os\n",
    "import torch\n",
    "import torch.nn as nn\n",
    "from torchsummary import summary\n",
    "from tqdm import tqdm\n",
    "import torch.nn.functional as F\n",
    "from torchvision.datasets import ImageFolder\n",
    "from torch.utils.data import DataLoader\n",
    "import torchvision.transforms as tt\n",
    "from torch.utils.data import ConcatDataset\n",
    "import matplotlib\n",
    "import matplotlib.pyplot as plt\n",
    "%matplotlib inline\n",
    "\n",
    "matplotlib.rcParams['figure.facecolor'] = '#ffffff'"
   ]
  },
  {
   "cell_type": "markdown",
   "id": "c773937e",
   "metadata": {},
   "source": [
    "## PATH FOR TRAINING AND VALIDATION SET"
   ]
  },
  {
   "cell_type": "code",
   "execution_count": 7,
   "id": "1d0930a5",
   "metadata": {
    "execution": {
     "iopub.execute_input": "2024-08-05T12:16:29.248613Z",
     "iopub.status.busy": "2024-08-05T12:16:29.248161Z",
     "iopub.status.idle": "2024-08-05T12:16:29.264862Z",
     "shell.execute_reply": "2024-08-05T12:16:29.263742Z"
    },
    "papermill": {
     "duration": 0.028059,
     "end_time": "2024-08-05T12:16:29.266810",
     "exception": false,
     "start_time": "2024-08-05T12:16:29.238751",
     "status": "completed"
    },
    "tags": []
   },
   "outputs": [
    {
     "name": "stdout",
     "output_type": "stream",
     "text": [
      "['Asian-Green-Bee-Eater', 'Brown-Headed-Barbet', 'Cattle-Egret', 'Common-Kingfisher', 'Common-Myna', 'Common-Rosefinch', 'Common-Tailorbird', 'Coppersmith-Barbet', 'Forest-Wagtail', 'Gray-Wagtail', 'Hoopoe', 'House-Crow', 'Indian-Grey-Hornbill', 'Indian-Peacock', 'Indian-Pitta', 'Indian-Roller', 'Jungle-Babbler', 'Northern-Lapwing', 'Red-Wattled-Lapwing', 'Ruddy-Shelduck', 'Rufous-Treepie', 'Sarus-Crane', 'White-Breasted-Kingfisher', 'White-Breasted-Waterhen', 'White-Wagtail']\n"
     ]
    }
   ],
   "source": [
    "train_dir = r'Seen Datasets\\train'\n",
    "val_dir = r'Seen Datasets\\val'\n",
    "classes = os.listdir(train_dir)\n",
    "print(classes)"
   ]
  },
  {
   "cell_type": "code",
   "execution_count": 8,
   "id": "c82479a9",
   "metadata": {
    "execution": {
     "iopub.execute_input": "2024-08-05T12:16:29.284357Z",
     "iopub.status.busy": "2024-08-05T12:16:29.283962Z",
     "iopub.status.idle": "2024-08-05T12:16:29.288035Z",
     "shell.execute_reply": "2024-08-05T12:16:29.287172Z"
    },
    "papermill": {
     "duration": 0.015007,
     "end_time": "2024-08-05T12:16:29.290021",
     "exception": false,
     "start_time": "2024-08-05T12:16:29.275014",
     "status": "completed"
    },
    "tags": []
   },
   "outputs": [],
   "source": [
    "image_size=(416,416)\n",
    "batch_size= 16"
   ]
  },
  {
   "cell_type": "markdown",
   "id": "43be1cfc",
   "metadata": {},
   "source": [
    "## FINDING MEAN AND STANDARD DEVIATION"
   ]
  },
  {
   "cell_type": "code",
   "execution_count": 9,
   "id": "1f6b0597",
   "metadata": {
    "execution": {
     "iopub.execute_input": "2024-08-05T12:16:29.307853Z",
     "iopub.status.busy": "2024-08-05T12:16:29.307190Z",
     "iopub.status.idle": "2024-08-05T12:16:29.312751Z",
     "shell.execute_reply": "2024-08-05T12:16:29.311848Z"
    },
    "papermill": {
     "duration": 0.016466,
     "end_time": "2024-08-05T12:16:29.314693",
     "exception": false,
     "start_time": "2024-08-05T12:16:29.298227",
     "status": "completed"
    },
    "tags": []
   },
   "outputs": [],
   "source": [
    "# train_set = ImageFolder(train_dir, transform=tt.Compose([\n",
    "#                                         # tt.Resize(image_size),\n",
    "#                                         tt.ToTensor()]))\n",
    "# val_set = ImageFolder(val_dir, transform=tt.Compose([\n",
    "#                                         # tt.Resize(image_size),\n",
    "#                                         tt.ToTensor()]))\n",
    "# dataset = ConcatDataset([train_set,val_set])\n",
    "# dataset_dl = DataLoader(dataset, batch_size, shuffle=True)\n",
    "\n",
    "# def get_mean_and_std(dataloader):\n",
    "#     channels_sum, channels_squared_sum, num_batches = 0, 0, 0\n",
    "#     for data, _ in tqdm(dataloader):\n",
    "\n",
    "#         channels_sum += torch.mean(data, dim=[0,2,3])\n",
    "#         channels_squared_sum += torch.mean(data**2, dim=[0,2,3])\n",
    "#         num_batches += 1\n",
    "\n",
    "#     mean = channels_sum / num_batches\n",
    "\n",
    "#     std = (channels_squared_sum / num_batches - mean ** 2) ** 0.5\n",
    "\n",
    "#     return mean, std\n",
    "\n",
    "# mean, std = get_mean_and_std(dataset_dl)\n",
    "# print('Mean = ',mean)\n",
    "# print('Std = ',std)"
   ]
  },
  {
   "cell_type": "code",
   "execution_count": 10,
   "id": "26889d90",
   "metadata": {},
   "outputs": [],
   "source": [
    "mean=[0.4724, 0.4814, 0.4018]\n",
    "std=[0.2450, 0.2429, 0.2691]"
   ]
  },
  {
   "cell_type": "code",
   "execution_count": 11,
   "id": "a8d12100",
   "metadata": {
    "execution": {
     "iopub.execute_input": "2024-08-05T12:16:29.356665Z",
     "iopub.status.busy": "2024-08-05T12:16:29.355984Z",
     "iopub.status.idle": "2024-08-05T12:16:54.072884Z",
     "shell.execute_reply": "2024-08-05T12:16:54.072104Z"
    },
    "papermill": {
     "duration": 24.728285,
     "end_time": "2024-08-05T12:16:54.075238",
     "exception": false,
     "start_time": "2024-08-05T12:16:29.346953",
     "status": "completed"
    },
    "tags": []
   },
   "outputs": [],
   "source": [
    "transformations_to_perform = transform=tt.Compose([\n",
    "                                tt.Resize(image_size),\n",
    "                                tt.ToTensor(),\n",
    "                                tt.Normalize(mean, std)])\n",
    "\n",
    "train_ds = ImageFolder(train_dir, transformations_to_perform)\n",
    "valid_ds = ImageFolder(val_dir,transformations_to_perform)"
   ]
  },
  {
   "cell_type": "code",
   "execution_count": 12,
   "id": "96383af1",
   "metadata": {
    "execution": {
     "iopub.execute_input": "2024-08-05T12:16:54.093272Z",
     "iopub.status.busy": "2024-08-05T12:16:54.092905Z",
     "iopub.status.idle": "2024-08-05T12:16:54.097925Z",
     "shell.execute_reply": "2024-08-05T12:16:54.097048Z"
    },
    "papermill": {
     "duration": 0.016143,
     "end_time": "2024-08-05T12:16:54.100012",
     "exception": false,
     "start_time": "2024-08-05T12:16:54.083869",
     "status": "completed"
    },
    "tags": []
   },
   "outputs": [],
   "source": [
    "train_dl = DataLoader(train_ds, batch_size, shuffle=True, num_workers=16, pin_memory=True) # DO USE NUM_WORKERS ACCORDING TO YOUR CPU CORES\n",
    "valid_dl = DataLoader(valid_ds, batch_size, num_workers=16, pin_memory=True)"
   ]
  },
  {
   "cell_type": "code",
   "execution_count": 13,
   "id": "5cb01a2e",
   "metadata": {
    "execution": {
     "iopub.execute_input": "2024-08-05T12:16:57.724060Z",
     "iopub.status.busy": "2024-08-05T12:16:57.723315Z",
     "iopub.status.idle": "2024-08-05T12:16:57.732539Z",
     "shell.execute_reply": "2024-08-05T12:16:57.731602Z"
    },
    "papermill": {
     "duration": 0.031146,
     "end_time": "2024-08-05T12:16:57.734656",
     "exception": false,
     "start_time": "2024-08-05T12:16:57.703510",
     "status": "completed"
    },
    "tags": []
   },
   "outputs": [],
   "source": [
    "def get_default_device():\n",
    "    \"\"\"Pick GPU if available, else CPU\"\"\"\n",
    "    if torch.cuda.is_available():\n",
    "        return torch.device('cuda')\n",
    "    else:\n",
    "        return torch.device('cpu')\n",
    "    \n",
    "def to_device(data, device):\n",
    "    \"\"\"Move tensor(s) to chosen device\"\"\"\n",
    "    if isinstance(data, (list,tuple)):\n",
    "        return [to_device(x, device) for x in data]\n",
    "    return data.to(device, non_blocking=True)\n",
    "\n",
    "class DeviceDataLoader():\n",
    "    \"\"\"Wrap a dataloader to move data to a device\"\"\"\n",
    "    def __init__(self, dl, device):\n",
    "        self.dl = dl\n",
    "        self.device = device\n",
    "        \n",
    "    def __iter__(self):\n",
    "        \"\"\"Yield a batch of data after moving it to device\"\"\"\n",
    "        for b in self.dl: \n",
    "            yield to_device(b, self.device)\n",
    "\n",
    "    def __len__(self):\n",
    "        \"\"\"Number of batches\"\"\"\n",
    "        return len(self.dl)"
   ]
  },
  {
   "cell_type": "code",
   "execution_count": 14,
   "id": "decbbecb",
   "metadata": {
    "execution": {
     "iopub.execute_input": "2024-08-05T12:16:57.773909Z",
     "iopub.status.busy": "2024-08-05T12:16:57.773523Z",
     "iopub.status.idle": "2024-08-05T12:16:57.779969Z",
     "shell.execute_reply": "2024-08-05T12:16:57.779053Z"
    },
    "papermill": {
     "duration": 0.029003,
     "end_time": "2024-08-05T12:16:57.782224",
     "exception": false,
     "start_time": "2024-08-05T12:16:57.753221",
     "status": "completed"
    },
    "tags": []
   },
   "outputs": [
    {
     "data": {
      "text/plain": [
       "device(type='cuda')"
      ]
     },
     "execution_count": 14,
     "metadata": {},
     "output_type": "execute_result"
    }
   ],
   "source": [
    "device = get_default_device()\n",
    "device"
   ]
  },
  {
   "cell_type": "markdown",
   "id": "609633c6",
   "metadata": {},
   "source": [
    "## LOADING DATA TO THE DEVIDE"
   ]
  },
  {
   "cell_type": "code",
   "execution_count": 15,
   "id": "f2767ecd",
   "metadata": {
    "execution": {
     "iopub.execute_input": "2024-08-05T12:16:57.821746Z",
     "iopub.status.busy": "2024-08-05T12:16:57.820886Z",
     "iopub.status.idle": "2024-08-05T12:16:57.825498Z",
     "shell.execute_reply": "2024-08-05T12:16:57.824540Z"
    },
    "papermill": {
     "duration": 0.026429,
     "end_time": "2024-08-05T12:16:57.827698",
     "exception": false,
     "start_time": "2024-08-05T12:16:57.801269",
     "status": "completed"
    },
    "tags": []
   },
   "outputs": [],
   "source": [
    "train_dl = DeviceDataLoader(train_dl, device)\n",
    "valid_dl = DeviceDataLoader(valid_dl, device)"
   ]
  },
  {
   "cell_type": "markdown",
   "id": "93ee1e4f",
   "metadata": {},
   "source": [
    "## MODEL BUILDING"
   ]
  },
  {
   "cell_type": "code",
   "execution_count": 16,
   "id": "eda09260",
   "metadata": {
    "execution": {
     "iopub.execute_input": "2024-08-05T12:16:57.914840Z",
     "iopub.status.busy": "2024-08-05T12:16:57.913985Z",
     "iopub.status.idle": "2024-08-05T12:16:57.924446Z",
     "shell.execute_reply": "2024-08-05T12:16:57.923494Z"
    },
    "papermill": {
     "duration": 0.033146,
     "end_time": "2024-08-05T12:16:57.926567",
     "exception": false,
     "start_time": "2024-08-05T12:16:57.893421",
     "status": "completed"
    },
    "tags": []
   },
   "outputs": [],
   "source": [
    "def accuracy(outputs, labels):\n",
    "    _, preds = torch.max(outputs, dim=1)\n",
    "    return torch.tensor(torch.sum(preds == labels).item() / len(preds))\n",
    "\n",
    "class ImageClassificationBase(nn.Module):\n",
    "    def training_step(self, batch):\n",
    "        images, labels = batch \n",
    "        out = self(images)                  \n",
    "        loss = F.cross_entropy(out, labels) \n",
    "        acc = accuracy(out,labels)          \n",
    "        return loss,acc\n",
    "    \n",
    "    def validation_step(self, batch):\n",
    "        images, labels = batch \n",
    "        out = self(images)                  \n",
    "        loss = F.cross_entropy(out, labels) \n",
    "        acc = accuracy(out, labels)         \n",
    "        return {'val_loss': loss.detach(), 'val_acc': acc}\n",
    "        \n",
    "    def validation_epoch_end(self, outputs):\n",
    "        batch_losses = [x['val_loss'] for x in outputs]\n",
    "        epoch_loss = torch.stack(batch_losses).mean()   \n",
    "        batch_accs = [x['val_acc'] for x in outputs]\n",
    "        epoch_acc = torch.stack(batch_accs).mean()      \n",
    "        return {'val_loss': epoch_loss.item(), 'val_acc': epoch_acc.item()}\n",
    "    \n",
    "    def epoch_end(self, epoch, result):\n",
    "        print(\"Epoch [{}], train_loss: {:.4f},train_acc: {:.4f}, val_loss: {:.4f}, val_acc: {:.4f}\".format(\n",
    "            epoch, result['train_loss'],result['train_acc'], result['val_loss'], result['val_acc']))"
   ]
  },
  {
   "cell_type": "code",
   "execution_count": 17,
   "id": "705f65e3",
   "metadata": {
    "execution": {
     "iopub.execute_input": "2024-08-05T12:16:57.965735Z",
     "iopub.status.busy": "2024-08-05T12:16:57.965370Z",
     "iopub.status.idle": "2024-08-05T12:16:57.984240Z",
     "shell.execute_reply": "2024-08-05T12:16:57.983353Z"
    },
    "papermill": {
     "duration": 0.041053,
     "end_time": "2024-08-05T12:16:57.986333",
     "exception": false,
     "start_time": "2024-08-05T12:16:57.945280",
     "status": "completed"
    },
    "tags": []
   },
   "outputs": [],
   "source": [
    "class SEBlock(nn.Module):\n",
    "    def __init__(self, in_channels, reduction=16):\n",
    "        super(SEBlock, self).__init__()\n",
    "        self.fc1 = nn.Linear(in_channels, in_channels // reduction, bias=False)\n",
    "        self.fc2 = nn.Linear(in_channels // reduction, in_channels, bias=False)\n",
    "\n",
    "    def forward(self, x):\n",
    "        batch_size, num_channels, _, _ = x.size()\n",
    "        y = F.adaptive_avg_pool2d(x, 1).view(batch_size, num_channels)\n",
    "        y = F.relu(self.fc1(y))\n",
    "        y = torch.sigmoid(self.fc2(y)).view(batch_size, num_channels, 1, 1)\n",
    "        return x * y.expand_as(x)\n",
    "\n",
    "def conv(in_channels, out_channels, kernel_size=3, stride=1, padding=1, groups=1, use_se_block=False):\n",
    "    layers = [\n",
    "        nn.Conv2d(in_channels, out_channels, kernel_size, stride, padding, groups=groups),\n",
    "        nn.BatchNorm2d(out_channels),\n",
    "        nn.ReLU(inplace=True)\n",
    "    ]\n",
    "    if use_se_block:\n",
    "        layers.append(SEBlock(out_channels))\n",
    "    return nn.Sequential(*layers)\n",
    "\n",
    "def SeparableConv(in_channels, out_channels, use_se_block=False):\n",
    "    layers = [\n",
    "        nn.Conv2d(in_channels, in_channels, kernel_size=3, padding=1, groups=in_channels),\n",
    "        nn.Conv2d(in_channels, out_channels, kernel_size=1),\n",
    "        nn.BatchNorm2d(out_channels),\n",
    "        nn.ReLU(inplace=True)\n",
    "    ]\n",
    "    if use_se_block:\n",
    "        layers.append(SEBlock(out_channels))\n",
    "    return nn.Sequential(*layers)\n",
    "\n",
    "def linear(in_features, out_features, dropout_rate=0.3):\n",
    "    return nn.Sequential(\n",
    "        nn.Dropout(dropout_rate),\n",
    "        nn.Linear(in_features, out_features),\n",
    "        nn.BatchNorm1d(out_features),\n",
    "        nn.ReLU(inplace=True)\n",
    "    )\n",
    "\n",
    "class ImgClassifier(ImageClassificationBase):\n",
    "    def __init__(self, output_dim):\n",
    "        super(ImgClassifier, self).__init__()\n",
    "\n",
    "        self.features = nn.Sequential(\n",
    "            conv(3, 64, stride=2, use_se_block=True),\n",
    "            nn.MaxPool2d(2),\n",
    "\n",
    "            SeparableConv(64, 128, use_se_block=True),\n",
    "            nn.MaxPool2d(2),\n",
    "\n",
    "            SeparableConv(128, 256, use_se_block=True),\n",
    "            nn.MaxPool2d(2),\n",
    "\n",
    "            SeparableConv(256, 512, use_se_block=True),\n",
    "            nn.MaxPool2d(2),\n",
    "\n",
    "            SeparableConv(512, 512, use_se_block=True),\n",
    "            nn.MaxPool2d(2),\n",
    "\n",
    "            conv(512, 512, use_se_block=True),  \n",
    "        )\n",
    "\n",
    "        self.avgpool = nn.AdaptiveAvgPool2d((1, 1))\n",
    "\n",
    "        self.classifier = nn.Sequential(\n",
    "            linear(512, 1024),  \n",
    "            nn.Linear(1024, output_dim)\n",
    "        )\n",
    "\n",
    "    def forward(self, x):\n",
    "        x = self.features(x)\n",
    "        x = self.avgpool(x)\n",
    "        x = x.view(x.shape[0], -1)  \n",
    "        x = self.classifier(x)\n",
    "        return x\n"
   ]
  },
  {
   "cell_type": "code",
   "execution_count": 18,
   "id": "db5fa967",
   "metadata": {
    "execution": {
     "iopub.execute_input": "2024-08-05T12:16:58.025611Z",
     "iopub.status.busy": "2024-08-05T12:16:58.025240Z",
     "iopub.status.idle": "2024-08-05T12:16:58.084734Z",
     "shell.execute_reply": "2024-08-05T12:16:58.083468Z"
    },
    "papermill": {
     "duration": 0.082182,
     "end_time": "2024-08-05T12:16:58.087557",
     "exception": false,
     "start_time": "2024-08-05T12:16:58.005375",
     "status": "completed"
    },
    "tags": []
   },
   "outputs": [
    {
     "name": "stdout",
     "output_type": "stream",
     "text": [
      "=================================================================\n",
      "Layer (type:depth-idx)                   Param #\n",
      "=================================================================\n",
      "├─Sequential: 1-1                        --\n",
      "|    └─Sequential: 2-1                   --\n",
      "|    |    └─Conv2d: 3-1                  1,792\n",
      "|    |    └─BatchNorm2d: 3-2             128\n",
      "|    |    └─ReLU: 3-3                    --\n",
      "|    |    └─SEBlock: 3-4                 512\n",
      "|    └─MaxPool2d: 2-2                    --\n",
      "|    └─Sequential: 2-3                   --\n",
      "|    |    └─Conv2d: 3-5                  640\n",
      "|    |    └─Conv2d: 3-6                  8,320\n",
      "|    |    └─BatchNorm2d: 3-7             256\n",
      "|    |    └─ReLU: 3-8                    --\n",
      "|    |    └─SEBlock: 3-9                 2,048\n",
      "|    └─MaxPool2d: 2-4                    --\n",
      "|    └─Sequential: 2-5                   --\n",
      "|    |    └─Conv2d: 3-10                 1,280\n",
      "|    |    └─Conv2d: 3-11                 33,024\n",
      "|    |    └─BatchNorm2d: 3-12            512\n",
      "|    |    └─ReLU: 3-13                   --\n",
      "|    |    └─SEBlock: 3-14                8,192\n",
      "|    └─MaxPool2d: 2-6                    --\n",
      "|    └─Sequential: 2-7                   --\n",
      "|    |    └─Conv2d: 3-15                 2,560\n",
      "|    |    └─Conv2d: 3-16                 131,584\n",
      "|    |    └─BatchNorm2d: 3-17            1,024\n",
      "|    |    └─ReLU: 3-18                   --\n",
      "|    |    └─SEBlock: 3-19                32,768\n",
      "|    └─MaxPool2d: 2-8                    --\n",
      "|    └─Sequential: 2-9                   --\n",
      "|    |    └─Conv2d: 3-20                 5,120\n",
      "|    |    └─Conv2d: 3-21                 262,656\n",
      "|    |    └─BatchNorm2d: 3-22            1,024\n",
      "|    |    └─ReLU: 3-23                   --\n",
      "|    |    └─SEBlock: 3-24                32,768\n",
      "|    └─MaxPool2d: 2-10                   --\n",
      "|    └─Sequential: 2-11                  --\n",
      "|    |    └─Conv2d: 3-25                 2,359,808\n",
      "|    |    └─BatchNorm2d: 3-26            1,024\n",
      "|    |    └─ReLU: 3-27                   --\n",
      "|    |    └─SEBlock: 3-28                32,768\n",
      "├─AdaptiveAvgPool2d: 1-2                 --\n",
      "├─Sequential: 1-3                        --\n",
      "|    └─Sequential: 2-12                  --\n",
      "|    |    └─Dropout: 3-29                --\n",
      "|    |    └─Linear: 3-30                 525,312\n",
      "|    |    └─BatchNorm1d: 3-31            2,048\n",
      "|    |    └─ReLU: 3-32                   --\n",
      "|    └─Linear: 2-13                      25,625\n",
      "=================================================================\n",
      "Total params: 3,472,793\n",
      "Trainable params: 3,472,793\n",
      "Non-trainable params: 0\n",
      "=================================================================\n"
     ]
    },
    {
     "data": {
      "text/plain": [
       "=================================================================\n",
       "Layer (type:depth-idx)                   Param #\n",
       "=================================================================\n",
       "├─Sequential: 1-1                        --\n",
       "|    └─Sequential: 2-1                   --\n",
       "|    |    └─Conv2d: 3-1                  1,792\n",
       "|    |    └─BatchNorm2d: 3-2             128\n",
       "|    |    └─ReLU: 3-3                    --\n",
       "|    |    └─SEBlock: 3-4                 512\n",
       "|    └─MaxPool2d: 2-2                    --\n",
       "|    └─Sequential: 2-3                   --\n",
       "|    |    └─Conv2d: 3-5                  640\n",
       "|    |    └─Conv2d: 3-6                  8,320\n",
       "|    |    └─BatchNorm2d: 3-7             256\n",
       "|    |    └─ReLU: 3-8                    --\n",
       "|    |    └─SEBlock: 3-9                 2,048\n",
       "|    └─MaxPool2d: 2-4                    --\n",
       "|    └─Sequential: 2-5                   --\n",
       "|    |    └─Conv2d: 3-10                 1,280\n",
       "|    |    └─Conv2d: 3-11                 33,024\n",
       "|    |    └─BatchNorm2d: 3-12            512\n",
       "|    |    └─ReLU: 3-13                   --\n",
       "|    |    └─SEBlock: 3-14                8,192\n",
       "|    └─MaxPool2d: 2-6                    --\n",
       "|    └─Sequential: 2-7                   --\n",
       "|    |    └─Conv2d: 3-15                 2,560\n",
       "|    |    └─Conv2d: 3-16                 131,584\n",
       "|    |    └─BatchNorm2d: 3-17            1,024\n",
       "|    |    └─ReLU: 3-18                   --\n",
       "|    |    └─SEBlock: 3-19                32,768\n",
       "|    └─MaxPool2d: 2-8                    --\n",
       "|    └─Sequential: 2-9                   --\n",
       "|    |    └─Conv2d: 3-20                 5,120\n",
       "|    |    └─Conv2d: 3-21                 262,656\n",
       "|    |    └─BatchNorm2d: 3-22            1,024\n",
       "|    |    └─ReLU: 3-23                   --\n",
       "|    |    └─SEBlock: 3-24                32,768\n",
       "|    └─MaxPool2d: 2-10                   --\n",
       "|    └─Sequential: 2-11                  --\n",
       "|    |    └─Conv2d: 3-25                 2,359,808\n",
       "|    |    └─BatchNorm2d: 3-26            1,024\n",
       "|    |    └─ReLU: 3-27                   --\n",
       "|    |    └─SEBlock: 3-28                32,768\n",
       "├─AdaptiveAvgPool2d: 1-2                 --\n",
       "├─Sequential: 1-3                        --\n",
       "|    └─Sequential: 2-12                  --\n",
       "|    |    └─Dropout: 3-29                --\n",
       "|    |    └─Linear: 3-30                 525,312\n",
       "|    |    └─BatchNorm1d: 3-31            2,048\n",
       "|    |    └─ReLU: 3-32                   --\n",
       "|    └─Linear: 2-13                      25,625\n",
       "=================================================================\n",
       "Total params: 3,472,793\n",
       "Trainable params: 3,472,793\n",
       "Non-trainable params: 0\n",
       "================================================================="
      ]
     },
     "execution_count": 18,
     "metadata": {},
     "output_type": "execute_result"
    }
   ],
   "source": [
    "model = to_device(ImgClassifier(25), device)\n",
    "summary(model)"
   ]
  },
  {
   "cell_type": "markdown",
   "id": "f1193bb6",
   "metadata": {},
   "source": [
    "## TRAINING PIPELINE "
   ]
  },
  {
   "cell_type": "code",
   "execution_count": 19,
   "id": "2efb433c",
   "metadata": {
    "execution": {
     "iopub.execute_input": "2024-08-05T12:16:58.130231Z",
     "iopub.status.busy": "2024-08-05T12:16:58.129612Z",
     "iopub.status.idle": "2024-08-05T12:16:58.145985Z",
     "shell.execute_reply": "2024-08-05T12:16:58.145035Z"
    },
    "papermill": {
     "duration": 0.040235,
     "end_time": "2024-08-05T12:16:58.147974",
     "exception": false,
     "start_time": "2024-08-05T12:16:58.107739",
     "status": "completed"
    },
    "tags": []
   },
   "outputs": [],
   "source": [
    "class EarlyStopping:\n",
    "    def __init__(self, patience=5, min_delta=0):\n",
    "        self.patience = patience\n",
    "        self.min_delta = min_delta\n",
    "        self.counter = 0\n",
    "        self.best_score = None\n",
    "        self.early_stop = False\n",
    "\n",
    "    def __call__(self, val_loss, model):\n",
    "        score = -val_loss\n",
    "\n",
    "        if self.best_score is None:\n",
    "            self.best_score = score\n",
    "            self.save_checkpoint(val_loss, model)\n",
    "        elif score < self.best_score + self.min_delta:\n",
    "            self.counter += 1\n",
    "            if self.counter >= self.patience:\n",
    "                self.early_stop = True\n",
    "        else:\n",
    "            self.best_score = score\n",
    "            self.save_checkpoint(val_loss, model)\n",
    "            self.counter = 0\n",
    "\n",
    "    def save_checkpoint(self, val_loss, model):\n",
    "        torch.save(model.state_dict(), 'checkpoint.pt')\n",
    "\n",
    "@torch.no_grad()\n",
    "def evaluate(model, val_loader):\n",
    "    model.eval()\n",
    "    outputs = [model.validation_step(batch) for batch in val_loader]\n",
    "    return model.validation_epoch_end(outputs)\n",
    "\n",
    "def modeltrain(epochs, lr, model, train_loader, val_loader, \n",
    "                  weight_decay=0, grad_clip=None, opt_func=torch.optim.Adam):\n",
    "    history = []\n",
    "    optimizer = opt_func(model.parameters(), lr, weight_decay=weight_decay)\n",
    "    scheduler = torch.optim.lr_scheduler.ReduceLROnPlateau(optimizer, 'min', patience=5, factor=0.5)\n",
    "    early_stopping = EarlyStopping(patience=7, min_delta=0.001)\n",
    "    torch.cuda.empty_cache()\n",
    "    \n",
    "    for epoch in range(epochs):\n",
    "        model.train()\n",
    "        train_losses = []\n",
    "        train_accs = []\n",
    "\n",
    "        for batch in tqdm(train_loader):\n",
    "            batch = to_device(batch, device)\n",
    "            loss, acc = model.training_step(batch)\n",
    "            train_losses.append(loss)\n",
    "            train_accs.append(acc)\n",
    "            loss.backward()\n",
    "            \n",
    "            if grad_clip: \n",
    "                nn.utils.clip_grad_value_(model.parameters(), grad_clip)\n",
    "            \n",
    "            optimizer.step()\n",
    "            optimizer.zero_grad()\n",
    "            \n",
    "        result = evaluate(model, val_loader)\n",
    "        result['train_loss'] = torch.stack(train_losses).mean().item()\n",
    "        result['train_acc'] = torch.stack(train_accs).mean().item()\n",
    "        scheduler.step(result['val_loss'])\n",
    "        early_stopping(result['val_loss'], model)\n",
    "        \n",
    "        if early_stopping.early_stop:\n",
    "            print(\"Early stopping\")\n",
    "            break\n",
    "\n",
    "        model.epoch_end(epoch, result)\n",
    "        history.append(result)\n",
    "\n",
    "    model.load_state_dict(torch.load('checkpoint.pt'))\n",
    "\n",
    "    return history\n"
   ]
  },
  {
   "cell_type": "markdown",
   "id": "23ced411",
   "metadata": {},
   "source": [
    "## HYPER PARAMETERS AND TRAINING"
   ]
  },
  {
   "cell_type": "code",
   "execution_count": 20,
   "id": "a31fa6ee",
   "metadata": {
    "execution": {
     "iopub.execute_input": "2024-08-05T12:16:58.190755Z",
     "iopub.status.busy": "2024-08-05T12:16:58.189911Z",
     "iopub.status.idle": "2024-08-05T12:17:22.263452Z",
     "shell.execute_reply": "2024-08-05T12:17:22.262251Z"
    },
    "papermill": {
     "duration": 24.097286,
     "end_time": "2024-08-05T12:17:22.265577",
     "exception": false,
     "start_time": "2024-08-05T12:16:58.168291",
     "status": "completed"
    },
    "tags": []
   },
   "outputs": [
    {
     "data": {
      "text/plain": [
       "[{'val_loss': 3.2190473079681396, 'val_acc': 0.04051172733306885}]"
      ]
     },
     "execution_count": 20,
     "metadata": {},
     "output_type": "execute_result"
    }
   ],
   "source": [
    "history = [evaluate(model, valid_dl)]\n",
    "history"
   ]
  },
  {
   "cell_type": "code",
   "execution_count": 21,
   "id": "71e7c09e",
   "metadata": {
    "execution": {
     "iopub.execute_input": "2024-08-05T12:17:22.309639Z",
     "iopub.status.busy": "2024-08-05T12:17:22.308731Z",
     "iopub.status.idle": "2024-08-05T12:17:22.313835Z",
     "shell.execute_reply": "2024-08-05T12:17:22.312937Z"
    },
    "papermill": {
     "duration": 0.02953,
     "end_time": "2024-08-05T12:17:22.315832",
     "exception": false,
     "start_time": "2024-08-05T12:17:22.286302",
     "status": "completed"
    },
    "tags": []
   },
   "outputs": [],
   "source": [
    "epochs = 100\n",
    "lr = 1e-3\n",
    "weight_decay = 1e-4\n",
    "grad_clip = 0.1\n",
    "opt_func = torch.optim.Adam"
   ]
  },
  {
   "cell_type": "code",
   "execution_count": null,
   "id": "f01252e9",
   "metadata": {},
   "outputs": [],
   "source": [
    "%%time\n",
    "history += modeltrain(epochs, lr, model, train_dl, valid_dl,  \n",
    "                            weight_decay=weight_decay, \n",
    "                            grad_clip = grad_clip,\n",
    "                            opt_func=opt_func)"
   ]
  },
  {
   "cell_type": "markdown",
   "id": "8fc9dfaf",
   "metadata": {},
   "source": [
    "## MODEL SAVING AND METRICES"
   ]
  },
  {
   "cell_type": "code",
   "execution_count": 23,
   "id": "d3354646",
   "metadata": {
    "execution": {
     "iopub.execute_input": "2024-08-05T14:38:47.260487Z",
     "iopub.status.busy": "2024-08-05T14:38:47.259659Z",
     "iopub.status.idle": "2024-08-05T14:38:47.296526Z",
     "shell.execute_reply": "2024-08-05T14:38:47.295540Z"
    },
    "papermill": {
     "duration": 5.658491,
     "end_time": "2024-08-05T14:38:47.298670",
     "exception": false,
     "start_time": "2024-08-05T14:38:41.640179",
     "status": "completed"
    },
    "tags": []
   },
   "outputs": [],
   "source": [
    "torch.save(model,'model.pth')"
   ]
  },
  {
   "cell_type": "code",
   "execution_count": 24,
   "id": "064fa3f6",
   "metadata": {
    "execution": {
     "iopub.execute_input": "2024-08-05T14:38:58.154309Z",
     "iopub.status.busy": "2024-08-05T14:38:58.153264Z",
     "iopub.status.idle": "2024-08-05T14:38:58.502885Z",
     "shell.execute_reply": "2024-08-05T14:38:58.501979Z"
    },
    "papermill": {
     "duration": 5.750783,
     "end_time": "2024-08-05T14:38:58.505193",
     "exception": false,
     "start_time": "2024-08-05T14:38:52.754410",
     "status": "completed"
    },
    "tags": []
   },
   "outputs": [],
   "source": [
    "model_scripted = torch.jit.script(model)\n",
    "model_scripted.save('modelscripted.pt')"
   ]
  },
  {
   "cell_type": "code",
   "execution_count": 25,
   "id": "240f8c81",
   "metadata": {
    "execution": {
     "iopub.execute_input": "2024-08-05T14:39:09.674697Z",
     "iopub.status.busy": "2024-08-05T14:39:09.674321Z",
     "iopub.status.idle": "2024-08-05T14:39:09.680604Z",
     "shell.execute_reply": "2024-08-05T14:39:09.679697Z"
    },
    "papermill": {
     "duration": 5.685943,
     "end_time": "2024-08-05T14:39:09.682463",
     "exception": false,
     "start_time": "2024-08-05T14:39:03.996520",
     "status": "completed"
    },
    "tags": []
   },
   "outputs": [],
   "source": [
    "def plot_accuracies(history):\n",
    "    train_accs =[x.get('train_acc') for x in history]\n",
    "    val_accs = [x['val_acc'] for x in history]\n",
    "    plt.plot(train_accs,'-b')\n",
    "    plt.plot(val_accs, '-r')\n",
    "    plt.xlabel('epoch')\n",
    "    plt.ylabel('accuracy')\n",
    "    plt.legend(['Training', 'Validation'])\n",
    "    plt.title('Accuracy vs. No. of epochs')\n",
    "    plt.savefig('AccuracyVsEpoch.png');"
   ]
  },
  {
   "cell_type": "code",
   "execution_count": null,
   "id": "94b3895c",
   "metadata": {
    "execution": {
     "iopub.execute_input": "2024-08-05T14:39:20.498598Z",
     "iopub.status.busy": "2024-08-05T14:39:20.498221Z",
     "iopub.status.idle": "2024-08-05T14:39:20.915142Z",
     "shell.execute_reply": "2024-08-05T14:39:20.914207Z"
    },
    "papermill": {
     "duration": 5.85159,
     "end_time": "2024-08-05T14:39:20.917177",
     "exception": false,
     "start_time": "2024-08-05T14:39:15.065587",
     "status": "completed"
    },
    "tags": []
   },
   "outputs": [],
   "source": [
    "plot_accuracies(history)"
   ]
  },
  {
   "cell_type": "code",
   "execution_count": 27,
   "id": "bf4a974e",
   "metadata": {
    "execution": {
     "iopub.execute_input": "2024-08-05T14:39:31.776759Z",
     "iopub.status.busy": "2024-08-05T14:39:31.776388Z",
     "iopub.status.idle": "2024-08-05T14:39:31.782540Z",
     "shell.execute_reply": "2024-08-05T14:39:31.781536Z"
    },
    "papermill": {
     "duration": 5.490133,
     "end_time": "2024-08-05T14:39:31.784532",
     "exception": false,
     "start_time": "2024-08-05T14:39:26.294399",
     "status": "completed"
    },
    "tags": []
   },
   "outputs": [],
   "source": [
    "def plot_losses(history):\n",
    "    train_losses = [x.get('train_loss') for x in history]\n",
    "    val_losses = [x['val_loss'] for x in history]\n",
    "    plt.plot(train_losses, '-b')\n",
    "    plt.plot(val_losses, '-r')\n",
    "    plt.xlabel('epoch')\n",
    "    plt.ylabel('loss')\n",
    "    plt.legend(['Training', 'Validation'])\n",
    "    plt.title('Loss vs. No. of epochs')\n",
    "    plt.savefig('LossVsEpoch.png');"
   ]
  },
  {
   "cell_type": "code",
   "execution_count": null,
   "id": "f5b8c9d3",
   "metadata": {
    "execution": {
     "iopub.execute_input": "2024-08-05T14:39:42.492726Z",
     "iopub.status.busy": "2024-08-05T14:39:42.491872Z",
     "iopub.status.idle": "2024-08-05T14:39:42.844963Z",
     "shell.execute_reply": "2024-08-05T14:39:42.844021Z"
    },
    "papermill": {
     "duration": 5.773962,
     "end_time": "2024-08-05T14:39:42.847238",
     "exception": false,
     "start_time": "2024-08-05T14:39:37.073276",
     "status": "completed"
    },
    "tags": []
   },
   "outputs": [],
   "source": [
    "plot_losses(history)"
   ]
  }
 ],
 "metadata": {
  "kaggle": {
   "accelerator": "gpu",
   "dataSources": [
    {
     "datasetId": 5447287,
     "sourceId": 9110333,
     "sourceType": "datasetVersion"
    }
   ],
   "dockerImageVersionId": 30747,
   "isGpuEnabled": true,
   "isInternetEnabled": true,
   "language": "python",
   "sourceType": "notebook"
  },
  "kernelspec": {
   "display_name": "Python 3",
   "language": "python",
   "name": "python3"
  },
  "language_info": {
   "codemirror_mode": {
    "name": "ipython",
    "version": 3
   },
   "file_extension": ".py",
   "mimetype": "text/x-python",
   "name": "python",
   "nbconvert_exporter": "python",
   "pygments_lexer": "ipython3",
   "version": "3.9.19"
  },
  "papermill": {
   "default_parameters": {},
   "duration": 8622.481446,
   "end_time": "2024-08-05T14:39:49.873235",
   "environment_variables": {},
   "exception": null,
   "input_path": "__notebook__.ipynb",
   "output_path": "__notebook__.ipynb",
   "parameters": {},
   "start_time": "2024-08-05T12:16:07.391789",
   "version": "2.5.0"
  }
 },
 "nbformat": 4,
 "nbformat_minor": 5
}
